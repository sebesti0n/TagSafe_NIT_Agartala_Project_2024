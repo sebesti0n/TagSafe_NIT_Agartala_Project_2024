{
 "cells": [
  {
   "cell_type": "markdown",
   "id": "c66cf53b-fbe8-4685-bcfb-014291846e12",
   "metadata": {},
   "source": [
    "# To train the Object detection Model:"
   ]
  },
  {
   "cell_type": "code",
   "execution_count": 2,
   "id": "87cec160",
   "metadata": {},
   "outputs": [
    {
     "name": "stdout",
     "output_type": "stream",
     "text": [
      "Requirement already satisfied: ultralytics==8.0.0 in /home/prashan-kumar/anaconda3/lib/python3.11/site-packages (8.0.0)\n",
      "Requirement already satisfied: hydra-core>=1.2.0 in /home/prashan-kumar/anaconda3/lib/python3.11/site-packages (from ultralytics==8.0.0) (1.3.2)\n",
      "Requirement already satisfied: matplotlib>=3.2.2 in /home/prashan-kumar/anaconda3/lib/python3.11/site-packages (from ultralytics==8.0.0) (3.7.2)\n",
      "Requirement already satisfied: numpy>=1.18.5 in /home/prashan-kumar/anaconda3/lib/python3.11/site-packages (from ultralytics==8.0.0) (1.24.3)\n",
      "Requirement already satisfied: opencv-python>=4.1.1 in /home/prashan-kumar/anaconda3/lib/python3.11/site-packages (from ultralytics==8.0.0) (4.9.0.80)\n",
      "Requirement already satisfied: Pillow>=7.1.2 in /home/prashan-kumar/anaconda3/lib/python3.11/site-packages (from ultralytics==8.0.0) (9.4.0)\n",
      "Requirement already satisfied: PyYAML>=5.3.1 in /home/prashan-kumar/anaconda3/lib/python3.11/site-packages (from ultralytics==8.0.0) (6.0)\n",
      "Requirement already satisfied: requests>=2.23.0 in /home/prashan-kumar/anaconda3/lib/python3.11/site-packages (from ultralytics==8.0.0) (2.31.0)\n",
      "Requirement already satisfied: scipy>=1.4.1 in /home/prashan-kumar/anaconda3/lib/python3.11/site-packages (from ultralytics==8.0.0) (1.11.1)\n",
      "Requirement already satisfied: torch>=1.7.0 in /home/prashan-kumar/anaconda3/lib/python3.11/site-packages (from ultralytics==8.0.0) (2.1.2)\n",
      "Requirement already satisfied: torchvision>=0.8.1 in /home/prashan-kumar/anaconda3/lib/python3.11/site-packages (from ultralytics==8.0.0) (0.16.2)\n",
      "Requirement already satisfied: tqdm>=4.64.0 in /home/prashan-kumar/anaconda3/lib/python3.11/site-packages (from ultralytics==8.0.0) (4.65.0)\n",
      "Requirement already satisfied: tensorboard>=2.4.1 in /home/prashan-kumar/anaconda3/lib/python3.11/site-packages (from ultralytics==8.0.0) (2.15.1)\n",
      "Requirement already satisfied: pandas>=1.1.4 in /home/prashan-kumar/anaconda3/lib/python3.11/site-packages (from ultralytics==8.0.0) (2.0.3)\n",
      "Requirement already satisfied: seaborn>=0.11.0 in /home/prashan-kumar/anaconda3/lib/python3.11/site-packages (from ultralytics==8.0.0) (0.12.2)\n",
      "Requirement already satisfied: ipython in /home/prashan-kumar/anaconda3/lib/python3.11/site-packages (from ultralytics==8.0.0) (8.15.0)\n",
      "Requirement already satisfied: psutil in /home/prashan-kumar/anaconda3/lib/python3.11/site-packages (from ultralytics==8.0.0) (5.9.0)\n",
      "Requirement already satisfied: thop>=0.1.1 in /home/prashan-kumar/anaconda3/lib/python3.11/site-packages (from ultralytics==8.0.0) (0.1.1.post2209072238)\n",
      "Requirement already satisfied: GitPython>=3.1.24 in /home/prashan-kumar/anaconda3/lib/python3.11/site-packages (from ultralytics==8.0.0) (3.1.41)\n",
      "Requirement already satisfied: gitdb<5,>=4.0.1 in /home/prashan-kumar/anaconda3/lib/python3.11/site-packages (from GitPython>=3.1.24->ultralytics==8.0.0) (4.0.11)\n",
      "Requirement already satisfied: omegaconf<2.4,>=2.2 in /home/prashan-kumar/anaconda3/lib/python3.11/site-packages (from hydra-core>=1.2.0->ultralytics==8.0.0) (2.3.0)\n",
      "Requirement already satisfied: antlr4-python3-runtime==4.9.* in /home/prashan-kumar/anaconda3/lib/python3.11/site-packages (from hydra-core>=1.2.0->ultralytics==8.0.0) (4.9.3)\n",
      "Requirement already satisfied: packaging in /home/prashan-kumar/anaconda3/lib/python3.11/site-packages (from hydra-core>=1.2.0->ultralytics==8.0.0) (23.1)\n",
      "Requirement already satisfied: contourpy>=1.0.1 in /home/prashan-kumar/anaconda3/lib/python3.11/site-packages (from matplotlib>=3.2.2->ultralytics==8.0.0) (1.0.5)\n",
      "Requirement already satisfied: cycler>=0.10 in /home/prashan-kumar/anaconda3/lib/python3.11/site-packages (from matplotlib>=3.2.2->ultralytics==8.0.0) (0.11.0)\n",
      "Requirement already satisfied: fonttools>=4.22.0 in /home/prashan-kumar/anaconda3/lib/python3.11/site-packages (from matplotlib>=3.2.2->ultralytics==8.0.0) (4.25.0)\n",
      "Requirement already satisfied: kiwisolver>=1.0.1 in /home/prashan-kumar/anaconda3/lib/python3.11/site-packages (from matplotlib>=3.2.2->ultralytics==8.0.0) (1.4.4)\n",
      "Requirement already satisfied: pyparsing<3.1,>=2.3.1 in /home/prashan-kumar/anaconda3/lib/python3.11/site-packages (from matplotlib>=3.2.2->ultralytics==8.0.0) (3.0.9)\n",
      "Requirement already satisfied: python-dateutil>=2.7 in /home/prashan-kumar/anaconda3/lib/python3.11/site-packages (from matplotlib>=3.2.2->ultralytics==8.0.0) (2.8.2)\n",
      "Requirement already satisfied: pytz>=2020.1 in /home/prashan-kumar/anaconda3/lib/python3.11/site-packages (from pandas>=1.1.4->ultralytics==8.0.0) (2023.3.post1)\n",
      "Requirement already satisfied: tzdata>=2022.1 in /home/prashan-kumar/anaconda3/lib/python3.11/site-packages (from pandas>=1.1.4->ultralytics==8.0.0) (2023.3)\n",
      "Requirement already satisfied: charset-normalizer<4,>=2 in /home/prashan-kumar/anaconda3/lib/python3.11/site-packages (from requests>=2.23.0->ultralytics==8.0.0) (2.0.4)\n",
      "Requirement already satisfied: idna<4,>=2.5 in /home/prashan-kumar/anaconda3/lib/python3.11/site-packages (from requests>=2.23.0->ultralytics==8.0.0) (3.4)\n",
      "Requirement already satisfied: urllib3<3,>=1.21.1 in /home/prashan-kumar/anaconda3/lib/python3.11/site-packages (from requests>=2.23.0->ultralytics==8.0.0) (1.26.16)\n",
      "Requirement already satisfied: certifi>=2017.4.17 in /home/prashan-kumar/anaconda3/lib/python3.11/site-packages (from requests>=2.23.0->ultralytics==8.0.0) (2023.11.17)\n",
      "Requirement already satisfied: absl-py>=0.4 in /home/prashan-kumar/anaconda3/lib/python3.11/site-packages (from tensorboard>=2.4.1->ultralytics==8.0.0) (2.0.0)\n",
      "Requirement already satisfied: grpcio>=1.48.2 in /home/prashan-kumar/anaconda3/lib/python3.11/site-packages (from tensorboard>=2.4.1->ultralytics==8.0.0) (1.60.0)\n",
      "Requirement already satisfied: google-auth<3,>=1.6.3 in /home/prashan-kumar/anaconda3/lib/python3.11/site-packages (from tensorboard>=2.4.1->ultralytics==8.0.0) (2.26.2)\n",
      "Requirement already satisfied: google-auth-oauthlib<2,>=0.5 in /home/prashan-kumar/anaconda3/lib/python3.11/site-packages (from tensorboard>=2.4.1->ultralytics==8.0.0) (1.2.0)\n",
      "Requirement already satisfied: markdown>=2.6.8 in /home/prashan-kumar/anaconda3/lib/python3.11/site-packages (from tensorboard>=2.4.1->ultralytics==8.0.0) (3.4.1)\n",
      "Requirement already satisfied: protobuf<4.24,>=3.19.6 in /home/prashan-kumar/anaconda3/lib/python3.11/site-packages (from tensorboard>=2.4.1->ultralytics==8.0.0) (4.23.4)\n",
      "Requirement already satisfied: setuptools>=41.0.0 in /home/prashan-kumar/anaconda3/lib/python3.11/site-packages (from tensorboard>=2.4.1->ultralytics==8.0.0) (68.0.0)\n",
      "Requirement already satisfied: six>1.9 in /home/prashan-kumar/anaconda3/lib/python3.11/site-packages (from tensorboard>=2.4.1->ultralytics==8.0.0) (1.16.0)\n",
      "Requirement already satisfied: tensorboard-data-server<0.8.0,>=0.7.0 in /home/prashan-kumar/anaconda3/lib/python3.11/site-packages (from tensorboard>=2.4.1->ultralytics==8.0.0) (0.7.2)\n",
      "Requirement already satisfied: werkzeug>=1.0.1 in /home/prashan-kumar/anaconda3/lib/python3.11/site-packages (from tensorboard>=2.4.1->ultralytics==8.0.0) (2.2.3)\n",
      "Requirement already satisfied: filelock in /home/prashan-kumar/anaconda3/lib/python3.11/site-packages (from torch>=1.7.0->ultralytics==8.0.0) (3.9.0)\n",
      "Requirement already satisfied: typing-extensions in /home/prashan-kumar/anaconda3/lib/python3.11/site-packages (from torch>=1.7.0->ultralytics==8.0.0) (4.7.1)\n",
      "Requirement already satisfied: sympy in /home/prashan-kumar/anaconda3/lib/python3.11/site-packages (from torch>=1.7.0->ultralytics==8.0.0) (1.11.1)\n",
      "Requirement already satisfied: networkx in /home/prashan-kumar/anaconda3/lib/python3.11/site-packages (from torch>=1.7.0->ultralytics==8.0.0) (3.1)\n",
      "Requirement already satisfied: jinja2 in /home/prashan-kumar/anaconda3/lib/python3.11/site-packages (from torch>=1.7.0->ultralytics==8.0.0) (3.1.2)\n",
      "Requirement already satisfied: fsspec in /home/prashan-kumar/anaconda3/lib/python3.11/site-packages (from torch>=1.7.0->ultralytics==8.0.0) (2023.4.0)\n",
      "Requirement already satisfied: nvidia-cuda-nvrtc-cu12==12.1.105 in /home/prashan-kumar/anaconda3/lib/python3.11/site-packages (from torch>=1.7.0->ultralytics==8.0.0) (12.1.105)\n",
      "Requirement already satisfied: nvidia-cuda-runtime-cu12==12.1.105 in /home/prashan-kumar/anaconda3/lib/python3.11/site-packages (from torch>=1.7.0->ultralytics==8.0.0) (12.1.105)\n",
      "Requirement already satisfied: nvidia-cuda-cupti-cu12==12.1.105 in /home/prashan-kumar/anaconda3/lib/python3.11/site-packages (from torch>=1.7.0->ultralytics==8.0.0) (12.1.105)\n",
      "Requirement already satisfied: nvidia-cudnn-cu12==8.9.2.26 in /home/prashan-kumar/anaconda3/lib/python3.11/site-packages (from torch>=1.7.0->ultralytics==8.0.0) (8.9.2.26)\n",
      "Requirement already satisfied: nvidia-cublas-cu12==12.1.3.1 in /home/prashan-kumar/anaconda3/lib/python3.11/site-packages (from torch>=1.7.0->ultralytics==8.0.0) (12.1.3.1)\n"
     ]
    },
    {
     "name": "stdout",
     "output_type": "stream",
     "text": [
      "Requirement already satisfied: nvidia-cufft-cu12==11.0.2.54 in /home/prashan-kumar/anaconda3/lib/python3.11/site-packages (from torch>=1.7.0->ultralytics==8.0.0) (11.0.2.54)\n",
      "Requirement already satisfied: nvidia-curand-cu12==10.3.2.106 in /home/prashan-kumar/anaconda3/lib/python3.11/site-packages (from torch>=1.7.0->ultralytics==8.0.0) (10.3.2.106)\n",
      "Requirement already satisfied: nvidia-cusolver-cu12==11.4.5.107 in /home/prashan-kumar/anaconda3/lib/python3.11/site-packages (from torch>=1.7.0->ultralytics==8.0.0) (11.4.5.107)\n",
      "Requirement already satisfied: nvidia-cusparse-cu12==12.1.0.106 in /home/prashan-kumar/anaconda3/lib/python3.11/site-packages (from torch>=1.7.0->ultralytics==8.0.0) (12.1.0.106)\n",
      "Requirement already satisfied: nvidia-nccl-cu12==2.18.1 in /home/prashan-kumar/anaconda3/lib/python3.11/site-packages (from torch>=1.7.0->ultralytics==8.0.0) (2.18.1)\n",
      "Requirement already satisfied: nvidia-nvtx-cu12==12.1.105 in /home/prashan-kumar/anaconda3/lib/python3.11/site-packages (from torch>=1.7.0->ultralytics==8.0.0) (12.1.105)\n",
      "Requirement already satisfied: triton==2.1.0 in /home/prashan-kumar/anaconda3/lib/python3.11/site-packages (from torch>=1.7.0->ultralytics==8.0.0) (2.1.0)\n",
      "Requirement already satisfied: nvidia-nvjitlink-cu12 in /home/prashan-kumar/anaconda3/lib/python3.11/site-packages (from nvidia-cusolver-cu12==11.4.5.107->torch>=1.7.0->ultralytics==8.0.0) (12.3.101)\n",
      "Requirement already satisfied: backcall in /home/prashan-kumar/anaconda3/lib/python3.11/site-packages (from ipython->ultralytics==8.0.0) (0.2.0)\n",
      "Requirement already satisfied: decorator in /home/prashan-kumar/anaconda3/lib/python3.11/site-packages (from ipython->ultralytics==8.0.0) (5.1.1)\n",
      "Requirement already satisfied: jedi>=0.16 in /home/prashan-kumar/anaconda3/lib/python3.11/site-packages (from ipython->ultralytics==8.0.0) (0.18.1)\n",
      "Requirement already satisfied: matplotlib-inline in /home/prashan-kumar/anaconda3/lib/python3.11/site-packages (from ipython->ultralytics==8.0.0) (0.1.6)\n",
      "Requirement already satisfied: pickleshare in /home/prashan-kumar/anaconda3/lib/python3.11/site-packages (from ipython->ultralytics==8.0.0) (0.7.5)\n",
      "Requirement already satisfied: prompt-toolkit!=3.0.37,<3.1.0,>=3.0.30 in /home/prashan-kumar/anaconda3/lib/python3.11/site-packages (from ipython->ultralytics==8.0.0) (3.0.36)\n",
      "Requirement already satisfied: pygments>=2.4.0 in /home/prashan-kumar/anaconda3/lib/python3.11/site-packages (from ipython->ultralytics==8.0.0) (2.15.1)\n",
      "Requirement already satisfied: stack-data in /home/prashan-kumar/anaconda3/lib/python3.11/site-packages (from ipython->ultralytics==8.0.0) (0.2.0)\n",
      "Requirement already satisfied: traitlets>=5 in /home/prashan-kumar/anaconda3/lib/python3.11/site-packages (from ipython->ultralytics==8.0.0) (5.7.1)\n",
      "Requirement already satisfied: pexpect>4.3 in /home/prashan-kumar/anaconda3/lib/python3.11/site-packages (from ipython->ultralytics==8.0.0) (4.8.0)\n",
      "Requirement already satisfied: smmap<6,>=3.0.1 in /home/prashan-kumar/anaconda3/lib/python3.11/site-packages (from gitdb<5,>=4.0.1->GitPython>=3.1.24->ultralytics==8.0.0) (5.0.1)\n",
      "Requirement already satisfied: cachetools<6.0,>=2.0.0 in /home/prashan-kumar/anaconda3/lib/python3.11/site-packages (from google-auth<3,>=1.6.3->tensorboard>=2.4.1->ultralytics==8.0.0) (5.3.2)\n",
      "Requirement already satisfied: pyasn1-modules>=0.2.1 in /home/prashan-kumar/anaconda3/lib/python3.11/site-packages (from google-auth<3,>=1.6.3->tensorboard>=2.4.1->ultralytics==8.0.0) (0.2.8)\n",
      "Requirement already satisfied: rsa<5,>=3.1.4 in /home/prashan-kumar/anaconda3/lib/python3.11/site-packages (from google-auth<3,>=1.6.3->tensorboard>=2.4.1->ultralytics==8.0.0) (4.9)\n",
      "Requirement already satisfied: requests-oauthlib>=0.7.0 in /home/prashan-kumar/anaconda3/lib/python3.11/site-packages (from google-auth-oauthlib<2,>=0.5->tensorboard>=2.4.1->ultralytics==8.0.0) (1.3.1)\n",
      "Requirement already satisfied: parso<0.9.0,>=0.8.0 in /home/prashan-kumar/anaconda3/lib/python3.11/site-packages (from jedi>=0.16->ipython->ultralytics==8.0.0) (0.8.3)\n",
      "Requirement already satisfied: ptyprocess>=0.5 in /home/prashan-kumar/anaconda3/lib/python3.11/site-packages (from pexpect>4.3->ipython->ultralytics==8.0.0) (0.7.0)\n",
      "Requirement already satisfied: wcwidth in /home/prashan-kumar/anaconda3/lib/python3.11/site-packages (from prompt-toolkit!=3.0.37,<3.1.0,>=3.0.30->ipython->ultralytics==8.0.0) (0.2.5)\n",
      "Requirement already satisfied: MarkupSafe>=2.1.1 in /home/prashan-kumar/anaconda3/lib/python3.11/site-packages (from werkzeug>=1.0.1->tensorboard>=2.4.1->ultralytics==8.0.0) (2.1.1)\n",
      "Requirement already satisfied: executing in /home/prashan-kumar/anaconda3/lib/python3.11/site-packages (from stack-data->ipython->ultralytics==8.0.0) (0.8.3)\n",
      "Requirement already satisfied: asttokens in /home/prashan-kumar/anaconda3/lib/python3.11/site-packages (from stack-data->ipython->ultralytics==8.0.0) (2.0.5)\n",
      "Requirement already satisfied: pure-eval in /home/prashan-kumar/anaconda3/lib/python3.11/site-packages (from stack-data->ipython->ultralytics==8.0.0) (0.2.2)\n",
      "Requirement already satisfied: mpmath>=0.19 in /home/prashan-kumar/anaconda3/lib/python3.11/site-packages (from sympy->torch>=1.7.0->ultralytics==8.0.0) (1.3.0)\n",
      "Requirement already satisfied: pyasn1<0.5.0,>=0.4.6 in /home/prashan-kumar/anaconda3/lib/python3.11/site-packages (from pyasn1-modules>=0.2.1->google-auth<3,>=1.6.3->tensorboard>=2.4.1->ultralytics==8.0.0) (0.4.8)\n",
      "Requirement already satisfied: oauthlib>=3.0.0 in /home/prashan-kumar/anaconda3/lib/python3.11/site-packages (from requests-oauthlib>=0.7.0->google-auth-oauthlib<2,>=0.5->tensorboard>=2.4.1->ultralytics==8.0.0) (3.2.2)\n",
      "Requirement already satisfied: easyocr in /home/prashan-kumar/anaconda3/lib/python3.11/site-packages (1.7.1)\n",
      "Requirement already satisfied: torch in /home/prashan-kumar/anaconda3/lib/python3.11/site-packages (from easyocr) (2.1.2)\n",
      "Requirement already satisfied: torchvision>=0.5 in /home/prashan-kumar/anaconda3/lib/python3.11/site-packages (from easyocr) (0.16.2)\n",
      "Requirement already satisfied: opencv-python-headless in /home/prashan-kumar/anaconda3/lib/python3.11/site-packages (from easyocr) (4.9.0.80)\n",
      "Requirement already satisfied: scipy in /home/prashan-kumar/anaconda3/lib/python3.11/site-packages (from easyocr) (1.11.1)\n",
      "Requirement already satisfied: numpy in /home/prashan-kumar/anaconda3/lib/python3.11/site-packages (from easyocr) (1.24.3)\n",
      "Requirement already satisfied: Pillow in /home/prashan-kumar/anaconda3/lib/python3.11/site-packages (from easyocr) (9.4.0)\n",
      "Requirement already satisfied: scikit-image in /home/prashan-kumar/anaconda3/lib/python3.11/site-packages (from easyocr) (0.20.0)\n",
      "Requirement already satisfied: python-bidi in /home/prashan-kumar/anaconda3/lib/python3.11/site-packages (from easyocr) (0.4.2)\n",
      "Requirement already satisfied: PyYAML in /home/prashan-kumar/anaconda3/lib/python3.11/site-packages (from easyocr) (6.0)\n",
      "Requirement already satisfied: Shapely in /home/prashan-kumar/anaconda3/lib/python3.11/site-packages (from easyocr) (2.0.2)\n",
      "Requirement already satisfied: pyclipper in /home/prashan-kumar/anaconda3/lib/python3.11/site-packages (from easyocr) (1.3.0.post5)\n",
      "Requirement already satisfied: ninja in /home/prashan-kumar/anaconda3/lib/python3.11/site-packages (from easyocr) (1.11.1.1)\n",
      "Requirement already satisfied: requests in /home/prashan-kumar/anaconda3/lib/python3.11/site-packages (from torchvision>=0.5->easyocr) (2.31.0)\n",
      "Requirement already satisfied: filelock in /home/prashan-kumar/anaconda3/lib/python3.11/site-packages (from torch->easyocr) (3.9.0)\n",
      "Requirement already satisfied: typing-extensions in /home/prashan-kumar/anaconda3/lib/python3.11/site-packages (from torch->easyocr) (4.7.1)\n",
      "Requirement already satisfied: sympy in /home/prashan-kumar/anaconda3/lib/python3.11/site-packages (from torch->easyocr) (1.11.1)\n",
      "Requirement already satisfied: networkx in /home/prashan-kumar/anaconda3/lib/python3.11/site-packages (from torch->easyocr) (3.1)\n",
      "Requirement already satisfied: jinja2 in /home/prashan-kumar/anaconda3/lib/python3.11/site-packages (from torch->easyocr) (3.1.2)\n",
      "Requirement already satisfied: fsspec in /home/prashan-kumar/anaconda3/lib/python3.11/site-packages (from torch->easyocr) (2023.4.0)\n",
      "Requirement already satisfied: nvidia-cuda-nvrtc-cu12==12.1.105 in /home/prashan-kumar/anaconda3/lib/python3.11/site-packages (from torch->easyocr) (12.1.105)\n",
      "Requirement already satisfied: nvidia-cuda-runtime-cu12==12.1.105 in /home/prashan-kumar/anaconda3/lib/python3.11/site-packages (from torch->easyocr) (12.1.105)\n",
      "Requirement already satisfied: nvidia-cuda-cupti-cu12==12.1.105 in /home/prashan-kumar/anaconda3/lib/python3.11/site-packages (from torch->easyocr) (12.1.105)\n",
      "Requirement already satisfied: nvidia-cudnn-cu12==8.9.2.26 in /home/prashan-kumar/anaconda3/lib/python3.11/site-packages (from torch->easyocr) (8.9.2.26)\n"
     ]
    },
    {
     "name": "stdout",
     "output_type": "stream",
     "text": [
      "Requirement already satisfied: nvidia-cublas-cu12==12.1.3.1 in /home/prashan-kumar/anaconda3/lib/python3.11/site-packages (from torch->easyocr) (12.1.3.1)\n",
      "Requirement already satisfied: nvidia-cufft-cu12==11.0.2.54 in /home/prashan-kumar/anaconda3/lib/python3.11/site-packages (from torch->easyocr) (11.0.2.54)\n",
      "Requirement already satisfied: nvidia-curand-cu12==10.3.2.106 in /home/prashan-kumar/anaconda3/lib/python3.11/site-packages (from torch->easyocr) (10.3.2.106)\n",
      "Requirement already satisfied: nvidia-cusolver-cu12==11.4.5.107 in /home/prashan-kumar/anaconda3/lib/python3.11/site-packages (from torch->easyocr) (11.4.5.107)\n",
      "Requirement already satisfied: nvidia-cusparse-cu12==12.1.0.106 in /home/prashan-kumar/anaconda3/lib/python3.11/site-packages (from torch->easyocr) (12.1.0.106)\n",
      "Requirement already satisfied: nvidia-nccl-cu12==2.18.1 in /home/prashan-kumar/anaconda3/lib/python3.11/site-packages (from torch->easyocr) (2.18.1)\n",
      "Requirement already satisfied: nvidia-nvtx-cu12==12.1.105 in /home/prashan-kumar/anaconda3/lib/python3.11/site-packages (from torch->easyocr) (12.1.105)\n",
      "Requirement already satisfied: triton==2.1.0 in /home/prashan-kumar/anaconda3/lib/python3.11/site-packages (from torch->easyocr) (2.1.0)\n",
      "Requirement already satisfied: nvidia-nvjitlink-cu12 in /home/prashan-kumar/anaconda3/lib/python3.11/site-packages (from nvidia-cusolver-cu12==11.4.5.107->torch->easyocr) (12.3.101)\n",
      "Requirement already satisfied: six in /home/prashan-kumar/anaconda3/lib/python3.11/site-packages (from python-bidi->easyocr) (1.16.0)\n",
      "Requirement already satisfied: imageio>=2.4.1 in /home/prashan-kumar/anaconda3/lib/python3.11/site-packages (from scikit-image->easyocr) (2.31.1)\n",
      "Requirement already satisfied: tifffile>=2019.7.26 in /home/prashan-kumar/anaconda3/lib/python3.11/site-packages (from scikit-image->easyocr) (2023.4.12)\n",
      "Requirement already satisfied: PyWavelets>=1.1.1 in /home/prashan-kumar/anaconda3/lib/python3.11/site-packages (from scikit-image->easyocr) (1.4.1)\n",
      "Requirement already satisfied: packaging>=20.0 in /home/prashan-kumar/anaconda3/lib/python3.11/site-packages (from scikit-image->easyocr) (23.1)\n",
      "Requirement already satisfied: lazy_loader>=0.1 in /home/prashan-kumar/anaconda3/lib/python3.11/site-packages (from scikit-image->easyocr) (0.2)\n",
      "Requirement already satisfied: MarkupSafe>=2.0 in /home/prashan-kumar/anaconda3/lib/python3.11/site-packages (from jinja2->torch->easyocr) (2.1.1)\n",
      "Requirement already satisfied: charset-normalizer<4,>=2 in /home/prashan-kumar/anaconda3/lib/python3.11/site-packages (from requests->torchvision>=0.5->easyocr) (2.0.4)\n",
      "Requirement already satisfied: idna<4,>=2.5 in /home/prashan-kumar/anaconda3/lib/python3.11/site-packages (from requests->torchvision>=0.5->easyocr) (3.4)\n",
      "Requirement already satisfied: urllib3<3,>=1.21.1 in /home/prashan-kumar/anaconda3/lib/python3.11/site-packages (from requests->torchvision>=0.5->easyocr) (1.26.16)\n",
      "Requirement already satisfied: certifi>=2017.4.17 in /home/prashan-kumar/anaconda3/lib/python3.11/site-packages (from requests->torchvision>=0.5->easyocr) (2023.11.17)\n",
      "Requirement already satisfied: mpmath>=0.19 in /home/prashan-kumar/anaconda3/lib/python3.11/site-packages (from sympy->torch->easyocr) (1.3.0)\n"
     ]
    }
   ],
   "source": [
    "!pip install ultralytics==8.0.0\n",
    "!pip install easyocr"
   ]
  },
  {
   "cell_type": "code",
   "execution_count": 8,
   "id": "3704b216-5a99-4fcd-8385-5acd44a2c47f",
   "metadata": {},
   "outputs": [
    {
     "name": "stderr",
     "output_type": "stream",
     "text": [
      "\u001b[34m\u001b[1myolo/engine/trainer: \u001b[0mtask=detect, mode=train, model=yolov8n.yaml, data=/home/prashan-kumar/Desktop/rjpoliceLeftShiftANPRmodel/rjpoliceANPR_Model/dataset2/data.yaml, epochs=10, patience=50, batch=16, imgsz=640, save=True, cache=False, device=None, workers=8, project=None, name=None, exist_ok=False, pretrained=False, optimizer=SGD, verbose=False, seed=0, deterministic=True, single_cls=False, image_weights=False, rect=False, cos_lr=False, close_mosaic=10, resume=False, overlap_mask=True, mask_ratio=4, dropout=False, val=True, save_json=False, save_hybrid=False, conf=0.001, iou=0.7, max_det=300, half=True, dnn=False, plots=True, source=ultralytics/assets/, show=False, save_txt=False, save_conf=False, save_crop=False, hide_labels=False, hide_conf=False, vid_stride=1, line_thickness=3, visualize=False, augment=False, agnostic_nms=False, retina_masks=False, format=torchscript, keras=False, optimize=False, int8=False, dynamic=False, simplify=False, opset=17, workspace=4, nms=False, lr0=0.01, lrf=0.01, momentum=0.937, weight_decay=0.001, warmup_epochs=3.0, warmup_momentum=0.8, warmup_bias_lr=0.1, box=7.5, cls=0.5, dfl=1.5, fl_gamma=0.0, label_smoothing=0.0, nbs=64, hsv_h=0.015, hsv_s=0.7, hsv_v=0.4, degrees=0.0, translate=0.1, scale=0.5, shear=0.0, perspective=0.0, flipud=0.0, fliplr=0.5, mosaic=1.0, mixup=0.0, copy_paste=0.0, hydra={'output_subdir': None, 'run': {'dir': '.'}}, v5loader=True, save_dir=runs/detect/train4\n",
      "Ultralytics YOLOv8.0.3 🚀 Python-3.11.5 torch-2.1.2+cu121 CPU\n",
      "Overriding model.yaml nc=80 with nc=1\n",
      "\n",
      "                   from  n    params  module                                       arguments                     \n",
      "  0                  -1  1       464  ultralytics.nn.modules.Conv                  [3, 16, 3, 2]                 \n",
      "  1                  -1  1      4672  ultralytics.nn.modules.Conv                  [16, 32, 3, 2]                \n",
      "  2                  -1  1      7360  ultralytics.nn.modules.C2f                   [32, 32, 1, True]             \n",
      "  3                  -1  1     18560  ultralytics.nn.modules.Conv                  [32, 64, 3, 2]                \n",
      "  4                  -1  2     49664  ultralytics.nn.modules.C2f                   [64, 64, 2, True]             \n",
      "  5                  -1  1     73984  ultralytics.nn.modules.Conv                  [64, 128, 3, 2]               \n",
      "  6                  -1  2    197632  ultralytics.nn.modules.C2f                   [128, 128, 2, True]           \n",
      "  7                  -1  1    295424  ultralytics.nn.modules.Conv                  [128, 256, 3, 2]              \n",
      "  8                  -1  1    460288  ultralytics.nn.modules.C2f                   [256, 256, 1, True]           \n",
      "  9                  -1  1    164608  ultralytics.nn.modules.SPPF                  [256, 256, 5]                 \n",
      " 10                  -1  1         0  torch.nn.modules.upsampling.Upsample         [None, 2, 'nearest']          \n",
      " 11             [-1, 6]  1         0  ultralytics.nn.modules.Concat                [1]                           \n",
      " 12                  -1  1    148224  ultralytics.nn.modules.C2f                   [384, 128, 1]                 \n",
      " 13                  -1  1         0  torch.nn.modules.upsampling.Upsample         [None, 2, 'nearest']          \n",
      " 14             [-1, 4]  1         0  ultralytics.nn.modules.Concat                [1]                           \n",
      " 15                  -1  1     37248  ultralytics.nn.modules.C2f                   [192, 64, 1]                  \n",
      " 16                  -1  1     36992  ultralytics.nn.modules.Conv                  [64, 64, 3, 2]                \n",
      " 17            [-1, 12]  1         0  ultralytics.nn.modules.Concat                [1]                           \n",
      " 18                  -1  1    123648  ultralytics.nn.modules.C2f                   [192, 128, 1]                 \n",
      " 19                  -1  1    147712  ultralytics.nn.modules.Conv                  [128, 128, 3, 2]              \n",
      " 20             [-1, 9]  1         0  ultralytics.nn.modules.Concat                [1]                           \n",
      " 21                  -1  1    493056  ultralytics.nn.modules.C2f                   [384, 256, 1]                 \n",
      " 22        [15, 18, 21]  1    751507  ultralytics.nn.modules.Detect                [1, [64, 128, 256]]           \n",
      "Model summary: 225 layers, 3011043 parameters, 3011027 gradients, 8.2 GFLOPs\n",
      "\n",
      "Transferred 319/355 items from pretrained weights\n",
      "\u001b[34m\u001b[1moptimizer:\u001b[0m SGD(lr=0.01) with parameter groups 57 weight(decay=0.0), 64 weight(decay=0.001), 63 bias\n",
      "\u001b[34m\u001b[1mtrain: \u001b[0mScanning /home/prashan-kumar/Desktop/rjpoliceLeftShiftANPRmodel/rjpoliceANPR_Model/\u001b[0m\n",
      "\u001b[34m\u001b[1mval: \u001b[0mScanning /home/prashan-kumar/Desktop/rjpoliceLeftShiftANPRmodel/rjpoliceANPR_Model/da\u001b[0m\n",
      "Image sizes 640 train, 640 val\n",
      "Using 0 dataloader workers\n",
      "Logging results to \u001b[1mruns/detect/train4\u001b[0m\n",
      "Starting training for 10 epochs...\n",
      "Closing dataloader mosaic\n",
      "\n",
      "      Epoch    GPU_mem   box_loss   cls_loss   dfl_loss  Instances       Size\n",
      "       1/10         0G      1.669      4.664      1.489          2        640: 100%|██████\n",
      "                 Class     Images  Instances      Box(P          R      mAP50  mAP50-95): \n",
      "                   all         60         64    0.00233      0.656     0.0649     0.0245\n",
      "\n",
      "      Epoch    GPU_mem   box_loss   cls_loss   dfl_loss  Instances       Size\n",
      "       2/10         0G      1.445      3.751      1.294          2        640: 100%|██████\n",
      "                 Class     Images  Instances      Box(P          R      mAP50  mAP50-95): \n",
      "                   all         60         64    0.00267       0.75      0.172      0.102\n",
      "\n",
      "      Epoch    GPU_mem   box_loss   cls_loss   dfl_loss  Instances       Size\n",
      "       3/10         0G      1.542      2.578      1.349          2        640: 100%|██████\n",
      "                 Class     Images  Instances      Box(P          R      mAP50  mAP50-95): \n",
      "                   all         60         64    0.00306      0.859       0.33      0.192\n",
      "\n",
      "      Epoch    GPU_mem   box_loss   cls_loss   dfl_loss  Instances       Size\n",
      "       4/10         0G      1.503      2.095      1.293          2        640: 100%|██████\n",
      "                 Class     Images  Instances      Box(P          R      mAP50  mAP50-95): \n",
      "                   all         60         64      0.678      0.578      0.603      0.303\n",
      "\n",
      "      Epoch    GPU_mem   box_loss   cls_loss   dfl_loss  Instances       Size\n",
      "       5/10         0G      1.424      1.859      1.188          2        640: 100%|██████\n",
      "                 Class     Images  Instances      Box(P          R      mAP50  mAP50-95): \n",
      "                   all         60         64          1      0.252      0.668      0.347\n",
      "\n",
      "      Epoch    GPU_mem   box_loss   cls_loss   dfl_loss  Instances       Size\n",
      "       6/10         0G      1.538      1.764      1.234          2        640: 100%|██████\n",
      "                 Class     Images  Instances      Box(P          R      mAP50  mAP50-95): \n",
      "                   all         60         64      0.737      0.391      0.568      0.301\n",
      "\n",
      "      Epoch    GPU_mem   box_loss   cls_loss   dfl_loss  Instances       Size\n",
      "       7/10         0G      1.445      1.645      1.233          2        640: 100%|██████\n",
      "                 Class     Images  Instances      Box(P          R      mAP50  mAP50-95): \n",
      "                   all         60         64      0.671        0.5      0.596      0.299\n",
      "\n",
      "      Epoch    GPU_mem   box_loss   cls_loss   dfl_loss  Instances       Size\n",
      "       8/10         0G      1.442      1.604      1.222          2        640: 100%|██████\n",
      "                 Class     Images  Instances      Box(P          R      mAP50  mAP50-95): \n",
      "                   all         60         64      0.798      0.555      0.733      0.409\n",
      "\n",
      "      Epoch    GPU_mem   box_loss   cls_loss   dfl_loss  Instances       Size\n",
      "       9/10         0G      1.462      1.554      1.224          2        640: 100%|██████\n",
      "                 Class     Images  Instances      Box(P          R      mAP50  mAP50-95): \n",
      "                   all         60         64      0.821      0.718       0.78      0.414\n",
      "\n",
      "      Epoch    GPU_mem   box_loss   cls_loss   dfl_loss  Instances       Size\n",
      "      10/10         0G      1.488      1.473      1.269          2        640: 100%|██████\n",
      "                 Class     Images  Instances      Box(P          R      mAP50  mAP50-95): \n",
      "                   all         60         64       0.79      0.781      0.817      0.424\n",
      "\n",
      "10 epochs completed in 0.314 hours.\n",
      "Optimizer stripped from runs/detect/train4/weights/last.pt, 6.3MB\n",
      "Optimizer stripped from runs/detect/train4/weights/best.pt, 6.3MB\n",
      "\n",
      "Validating runs/detect/train4/weights/best.pt...\n",
      "Ultralytics YOLOv8.0.3 🚀 Python-3.11.5 torch-2.1.2+cu121 CPU\n",
      "Fusing layers... \n",
      "Model summary: 168 layers, 3005843 parameters, 0 gradients, 8.1 GFLOPs\n",
      "                 Class     Images  Instances      Box(P          R      mAP50  mAP50-95): \n",
      "                   all         60         64       0.79      0.781      0.817      0.423\n",
      "Speed: 2.9ms pre-process, 110.6ms inference, 0.0ms loss, 0.9ms post-process per image\n",
      "Saving runs/detect/train4/predictions.json...\n",
      "Results saved to \u001b[1mruns/detect/train4\u001b[0m\n"
     ]
    }
   ],
   "source": [
    "from ultralytics import YOLO\n",
    "\n",
    "model = YOLO('yolov8n.pt') \n",
    "\n",
    "results = model.train(data='dataset2/data.yaml', epochs=10, imgsz=640) \n"
   ]
  },
  {
   "cell_type": "markdown",
   "id": "b174b770-8506-43a4-9371-1bf6d7e36445",
   "metadata": {},
   "source": [
    "# Test Object Detection Model:"
   ]
  },
  {
   "cell_type": "code",
   "execution_count": 11,
   "id": "42e1de07-310a-403d-967c-c68c8ecdaba1",
   "metadata": {},
   "outputs": [
    {
     "name": "stderr",
     "output_type": "stream",
     "text": [
      "Ultralytics YOLOv8.0.3 🚀 Python-3.11.5 torch-2.1.2+cu121 CPU\n",
      "Fusing layers... \n",
      "Model summary: 168 layers, 3005843 parameters, 0 gradients, 8.1 GFLOPs\n",
      "image 1/1 /home/prashan-kumar/Desktop/rjpoliceLeftShiftANPRmodel/rjpoliceANPR_Model/image3.jpeg: 128x320 2 licences, 43.2ms\n",
      "Speed: 0.4ms pre-process, 43.2ms inference, 2.1ms postprocess per image at shape (1, 3, 320, 320)\n",
      "Results saved to \u001b[1mruns/detect/predict3\u001b[0m\n"
     ]
    },
    {
     "data": {
      "text/plain": [
       "[tensor([[103.00000,  90.00000, 143.00000, 108.00000,   0.91190,   0.00000],\n",
       "         [250.00000,  69.00000, 276.00000,  82.00000,   0.72699,   0.00000]])]"
      ]
     },
     "execution_count": 11,
     "metadata": {},
     "output_type": "execute_result"
    }
   ],
   "source": [
    "from ultralytics import YOLO\n",
    "\n",
    "\n",
    "model = YOLO('ultralytics/runs/detect/train_model/weights/best.pt')\n",
    "\n",
    "model.predict('image3.jpeg', save=True, imgsz=320, conf=0.2)\n"
   ]
  },
  {
   "cell_type": "markdown",
   "id": "a96e4c4b-d2e2-40ce-ac20-cbdaf13ee58b",
   "metadata": {},
   "source": [
    "# Recognize License plate after Detecting  using easy-ocr"
   ]
  },
  {
   "cell_type": "code",
   "execution_count": 2,
   "id": "7ef8b093",
   "metadata": {},
   "outputs": [],
   "source": [
    "import easyocr\n",
    "import cv2\n",
    "import numpy as np"
   ]
  },
  {
   "cell_type": "code",
   "execution_count": 10,
   "id": "56065530-e170-468e-9ecf-781e41be3433",
   "metadata": {},
   "outputs": [
    {
     "name": "stdout",
     "output_type": "stream",
     "text": [
      "Neither CUDA nor MPS are available - defaulting to CPU. Note: This module is much faster with a GPU.\n",
      "Ultralytics YOLOv8.0.3 🚀 Python-3.11.5 torch-2.1.2+cu121 CPU\n",
      "Fusing layers... \n",
      "Model summary: 168 layers, 3005843 parameters, 0 gradients, 8.1 GFLOPs\n",
      "image 1/1 /home/prashan-kumar/Desktop/rjpoliceLeftShiftANPRmodel/rjpoliceANPR_Model/image3.jpeg: 256x640 2 licences, 181.4ms\n",
      "Speed: 1.9ms pre-process, 181.4ms inference, 11.0ms postprocess per image at shape (1, 3, 640, 640)\n",
      "Results saved to \u001b[1mruns/detect/train5\u001b[0m\n"
     ]
    }
   ],
   "source": [
    "!python predict_modified.py model='ultralytics/runs/detect/train_model/weights/best.pt' source='image3.jpeg' "
   ]
  },
  {
   "cell_type": "code",
   "execution_count": 1,
   "id": "59639ad8-646f-4cc1-92c4-031b3421ba91",
   "metadata": {
    "scrolled": true
   },
   "outputs": [
    {
     "name": "stdout",
     "output_type": "stream",
     "text": [
      "Collecting Cmake\n",
      "  Obtaining dependency information for Cmake from https://files.pythonhosted.org/packages/09/30/df85689d18122becb9b6495cf6778f9ef629bdaa3ec86f49809ab5772e35/cmake-3.28.1-py2.py3-none-manylinux2014_x86_64.manylinux_2_17_x86_64.whl.metadata\n",
      "  Downloading cmake-3.28.1-py2.py3-none-manylinux2014_x86_64.manylinux_2_17_x86_64.whl.metadata (6.3 kB)\n",
      "Downloading cmake-3.28.1-py2.py3-none-manylinux2014_x86_64.manylinux_2_17_x86_64.whl (26.3 MB)\n",
      "\u001b[2K   \u001b[38;2;114;156;31m━━━━━━━━━━━━━━━━━━━━━━━━━━━━━━━━━━━━━━━━\u001b[0m \u001b[32m26.3/26.3 MB\u001b[0m \u001b[31m2.1 MB/s\u001b[0m eta \u001b[36m0:00:00\u001b[0mm eta \u001b[36m0:00:01\u001b[0m[36m0:00:01\u001b[0mm\n",
      "\u001b[?25hInstalling collected packages: Cmake\n",
      "Successfully installed Cmake-3.28.1\n",
      "Note: you may need to restart the kernel to use updated packages.\n"
     ]
    }
   ],
   "source": [
    "pip install Cmake\n"
   ]
  },
  {
   "cell_type": "code",
   "execution_count": 3,
   "id": "feb9c324",
   "metadata": {},
   "outputs": [
    {
     "name": "stdout",
     "output_type": "stream",
     "text": [
      "Requirement already satisfied: pandas in /home/prashan-kumar/anaconda3/lib/python3.11/site-packages (2.0.3)\n",
      "Requirement already satisfied: python-dateutil>=2.8.2 in /home/prashan-kumar/anaconda3/lib/python3.11/site-packages (from pandas) (2.8.2)\n",
      "Requirement already satisfied: pytz>=2020.1 in /home/prashan-kumar/anaconda3/lib/python3.11/site-packages (from pandas) (2023.3.post1)\n",
      "Requirement already satisfied: tzdata>=2022.1 in /home/prashan-kumar/anaconda3/lib/python3.11/site-packages (from pandas) (2023.3)\n",
      "Requirement already satisfied: numpy>=1.21.0 in /home/prashan-kumar/anaconda3/lib/python3.11/site-packages (from pandas) (1.24.3)\n",
      "Requirement already satisfied: six>=1.5 in /home/prashan-kumar/anaconda3/lib/python3.11/site-packages (from python-dateutil>=2.8.2->pandas) (1.16.0)\n",
      "Note: you may need to restart the kernel to use updated packages.\n"
     ]
    }
   ],
   "source": [
    "pip install pandas"
   ]
  },
  {
   "cell_type": "code",
   "execution_count": null,
   "id": "8e42c22e",
   "metadata": {},
   "outputs": [],
   "source": []
  }
 ],
 "metadata": {
  "kernelspec": {
   "display_name": "Python 3 (ipykernel)",
   "language": "python",
   "name": "python3"
  },
  "language_info": {
   "codemirror_mode": {
    "name": "ipython",
    "version": 3
   },
   "file_extension": ".py",
   "mimetype": "text/x-python",
   "name": "python",
   "nbconvert_exporter": "python",
   "pygments_lexer": "ipython3",
   "version": "3.11.5"
  }
 },
 "nbformat": 4,
 "nbformat_minor": 5
}
